{
 "cells": [
  {
   "cell_type": "code",
   "execution_count": 1,
   "id": "b05506d4",
   "metadata": {},
   "outputs": [],
   "source": [
    "import pandas as pd\n",
    "import matplotlib.pyplot as plt\n",
    "import numpy as np\n",
    "import seaborn as sns\n",
    "import os"
   ]
  },
  {
   "cell_type": "code",
   "execution_count": 2,
   "id": "1fa97ec4",
   "metadata": {},
   "outputs": [
    {
     "name": "stdout",
     "output_type": "stream",
     "text": [
      "c:\\Users\\valen\\Desktop\\etl_workshop002\n"
     ]
    }
   ],
   "source": [
    "os.chdir(\"..\")\n",
    "print(os.getcwd())"
   ]
  },
  {
   "cell_type": "code",
   "execution_count": 3,
   "id": "ff8f5d4d",
   "metadata": {},
   "outputs": [
    {
     "data": {
      "text/html": [
       "<div>\n",
       "<style scoped>\n",
       "    .dataframe tbody tr th:only-of-type {\n",
       "        vertical-align: middle;\n",
       "    }\n",
       "\n",
       "    .dataframe tbody tr th {\n",
       "        vertical-align: top;\n",
       "    }\n",
       "\n",
       "    .dataframe thead th {\n",
       "        text-align: right;\n",
       "    }\n",
       "</style>\n",
       "<table border=\"1\" class=\"dataframe\">\n",
       "  <thead>\n",
       "    <tr style=\"text-align: right;\">\n",
       "      <th></th>\n",
       "      <th>artist_name</th>\n",
       "      <th>listeners</th>\n",
       "      <th>playcount</th>\n",
       "      <th>similar</th>\n",
       "    </tr>\n",
       "  </thead>\n",
       "  <tbody>\n",
       "    <tr>\n",
       "      <th>0</th>\n",
       "      <td>!nvite</td>\n",
       "      <td>8030</td>\n",
       "      <td>19556</td>\n",
       "      <td>Bayleaf Manilla;Smiloh;Tentoe</td>\n",
       "    </tr>\n",
       "    <tr>\n",
       "      <th>1</th>\n",
       "      <td>#Kids</td>\n",
       "      <td>815</td>\n",
       "      <td>4431</td>\n",
       "      <td>Lullabies In Nature;Modern Children's Songs;Zo...</td>\n",
       "    </tr>\n",
       "    <tr>\n",
       "      <th>2</th>\n",
       "      <td>$affie</td>\n",
       "      <td>12512</td>\n",
       "      <td>32051</td>\n",
       "      <td>Ricki Wu;Lobby Lingu!n!;Exxecs</td>\n",
       "    </tr>\n",
       "    <tr>\n",
       "      <th>3</th>\n",
       "      <td>&amp;ME</td>\n",
       "      <td>138173</td>\n",
       "      <td>1164546</td>\n",
       "      <td>Rampa;Adriatique;Adam Port</td>\n",
       "    </tr>\n",
       "    <tr>\n",
       "      <th>4</th>\n",
       "      <td>'Falsettos' 2016 Broadway Company</td>\n",
       "      <td>21687</td>\n",
       "      <td>487458</td>\n",
       "      <td>Anthony Rosenthal;Stephanie J. Block;Christian...</td>\n",
       "    </tr>\n",
       "  </tbody>\n",
       "</table>\n",
       "</div>"
      ],
      "text/plain": [
       "                         artist_name  listeners  playcount  \\\n",
       "0                             !nvite       8030      19556   \n",
       "1                              #Kids        815       4431   \n",
       "2                             $affie      12512      32051   \n",
       "3                                &ME     138173    1164546   \n",
       "4  'Falsettos' 2016 Broadway Company      21687     487458   \n",
       "\n",
       "                                             similar  \n",
       "0                      Bayleaf Manilla;Smiloh;Tentoe  \n",
       "1  Lullabies In Nature;Modern Children's Songs;Zo...  \n",
       "2                     Ricki Wu;Lobby Lingu!n!;Exxecs  \n",
       "3                         Rampa;Adriatique;Adam Port  \n",
       "4  Anthony Rosenthal;Stephanie J. Block;Christian...  "
      ]
     },
     "execution_count": 3,
     "metadata": {},
     "output_type": "execute_result"
    }
   ],
   "source": [
    "lastfm_df = pd.read_csv(\"data/raw/lastfm_data.csv\")\n",
    "lastfm_df.head()"
   ]
  },
  {
   "cell_type": "code",
   "execution_count": 4,
   "id": "af44363c",
   "metadata": {},
   "outputs": [],
   "source": [
    "artists_df=pd.read_csv(\"data/raw/artists.csv\")\n",
    "needed_artists = artists_df['artist'].tolist()  "
   ]
  },
  {
   "cell_type": "code",
   "execution_count": 5,
   "id": "127ebb3d",
   "metadata": {},
   "outputs": [
    {
     "name": "stdout",
     "output_type": "stream",
     "text": [
      "Artists that do not yet appear after mapping:\n",
      "{'Maxence Cyrin', 'Clay Walker', 'Dombresky', 'Phyno', 'The Handsome Family', 'Maximilian Sievert', 'Maikel Delacalle', 'Clarence White', 'Reynaldo Santiago Chino ', 'The Kentucky Colonels', 'Maxel', 'Maunalua', 'Maxi Rozh', 'Chrystian & Ralf', 'Maxida Märak'}\n"
     ]
    }
   ],
   "source": [
    "found_artists = lastfm_df[\"artist_name\"].unique()\n",
    "missing = set(needed_artists) - set(found_artists)\n",
    "\n",
    "print(\"Artists that do not yet appear after mapping:\")\n",
    "print(missing)"
   ]
  },
  {
   "cell_type": "code",
   "execution_count": 6,
   "id": "6b9218ce",
   "metadata": {},
   "outputs": [
    {
     "data": {
      "text/plain": [
       "15"
      ]
     },
     "execution_count": 6,
     "metadata": {},
     "output_type": "execute_result"
    }
   ],
   "source": [
    "len(missing)"
   ]
  },
  {
   "cell_type": "code",
   "execution_count": 7,
   "id": "41c955b1",
   "metadata": {},
   "outputs": [
    {
     "name": "stdout",
     "output_type": "stream",
     "text": [
      "<class 'pandas.core.frame.DataFrame'>\n",
      "RangeIndex: 17632 entries, 0 to 17631\n",
      "Data columns (total 4 columns):\n",
      " #   Column       Non-Null Count  Dtype \n",
      "---  ------       --------------  ----- \n",
      " 0   artist_name  17632 non-null  object\n",
      " 1   listeners    17632 non-null  int64 \n",
      " 2   playcount    17632 non-null  int64 \n",
      " 3   similar      17199 non-null  object\n",
      "dtypes: int64(2), object(2)\n",
      "memory usage: 551.1+ KB\n"
     ]
    }
   ],
   "source": [
    "lastfm_df.info()"
   ]
  },
  {
   "cell_type": "code",
   "execution_count": 8,
   "id": "a5c1ffa7",
   "metadata": {},
   "outputs": [
    {
     "name": "stdout",
     "output_type": "stream",
     "text": [
      "\n",
      "Artistas sin similares pero con alta popularidad:\n"
     ]
    },
    {
     "data": {
      "text/html": [
       "<div>\n",
       "<style scoped>\n",
       "    .dataframe tbody tr th:only-of-type {\n",
       "        vertical-align: middle;\n",
       "    }\n",
       "\n",
       "    .dataframe tbody tr th {\n",
       "        vertical-align: top;\n",
       "    }\n",
       "\n",
       "    .dataframe thead th {\n",
       "        text-align: right;\n",
       "    }\n",
       "</style>\n",
       "<table border=\"1\" class=\"dataframe\">\n",
       "  <thead>\n",
       "    <tr style=\"text-align: right;\">\n",
       "      <th></th>\n",
       "      <th>artist_name</th>\n",
       "      <th>playcount</th>\n",
       "      <th>listeners</th>\n",
       "    </tr>\n",
       "  </thead>\n",
       "  <tbody>\n",
       "    <tr>\n",
       "      <th>16</th>\n",
       "      <td>102 Boyz</td>\n",
       "      <td>1628742</td>\n",
       "      <td>40763</td>\n",
       "    </tr>\n",
       "    <tr>\n",
       "      <th>46</th>\n",
       "      <td>220 KID</td>\n",
       "      <td>934292</td>\n",
       "      <td>134535</td>\n",
       "    </tr>\n",
       "    <tr>\n",
       "      <th>50</th>\n",
       "      <td>24kGoldn</td>\n",
       "      <td>20706450</td>\n",
       "      <td>1031742</td>\n",
       "    </tr>\n",
       "    <tr>\n",
       "      <th>73</th>\n",
       "      <td>3TEETH</td>\n",
       "      <td>3099647</td>\n",
       "      <td>145351</td>\n",
       "    </tr>\n",
       "    <tr>\n",
       "      <th>94</th>\n",
       "      <td>6 Dogs</td>\n",
       "      <td>7886152</td>\n",
       "      <td>263628</td>\n",
       "    </tr>\n",
       "    <tr>\n",
       "      <th>...</th>\n",
       "      <td>...</td>\n",
       "      <td>...</td>\n",
       "      <td>...</td>\n",
       "    </tr>\n",
       "    <tr>\n",
       "      <th>17318</th>\n",
       "      <td>slipmami</td>\n",
       "      <td>8652317</td>\n",
       "      <td>163595</td>\n",
       "    </tr>\n",
       "    <tr>\n",
       "      <th>17328</th>\n",
       "      <td>suggi</td>\n",
       "      <td>2474663</td>\n",
       "      <td>150887</td>\n",
       "    </tr>\n",
       "    <tr>\n",
       "      <th>17371</th>\n",
       "      <td>yeule</td>\n",
       "      <td>23622541</td>\n",
       "      <td>495430</td>\n",
       "    </tr>\n",
       "    <tr>\n",
       "      <th>17429</th>\n",
       "      <td>Автоспорт</td>\n",
       "      <td>712217</td>\n",
       "      <td>49131</td>\n",
       "    </tr>\n",
       "    <tr>\n",
       "      <th>17458</th>\n",
       "      <td>Российский Государственный симфонический оркес...</td>\n",
       "      <td>13255</td>\n",
       "      <td>2446</td>\n",
       "    </tr>\n",
       "  </tbody>\n",
       "</table>\n",
       "<p>395 rows × 3 columns</p>\n",
       "</div>"
      ],
      "text/plain": [
       "                                             artist_name  playcount  listeners\n",
       "16                                              102 Boyz    1628742      40763\n",
       "46                                               220 KID     934292     134535\n",
       "50                                              24kGoldn   20706450    1031742\n",
       "73                                                3TEETH    3099647     145351\n",
       "94                                                6 Dogs    7886152     263628\n",
       "...                                                  ...        ...        ...\n",
       "17318                                           slipmami    8652317     163595\n",
       "17328                                              suggi    2474663     150887\n",
       "17371                                              yeule   23622541     495430\n",
       "17429                                          Автоспорт     712217      49131\n",
       "17458  Российский Государственный симфонический оркес...      13255       2446\n",
       "\n",
       "[395 rows x 3 columns]"
      ]
     },
     "execution_count": 8,
     "metadata": {},
     "output_type": "execute_result"
    }
   ],
   "source": [
    "# Análisis de patrones en artistas sin similares\n",
    "similar_nulls = lastfm_df[lastfm_df['similar'].isnull()]\n",
    "print(\"\\nArtistas sin similares pero con alta popularidad:\")\n",
    "similar_nulls[similar_nulls['playcount'] > 5000][['artist_name', 'playcount', 'listeners']]"
   ]
  },
  {
   "cell_type": "code",
   "execution_count": 9,
   "id": "d76d2d99",
   "metadata": {},
   "outputs": [
    {
     "data": {
      "text/plain": [
       "similar\n",
       "2.0    17191\n",
       "0.0        3\n",
       "3.0        3\n",
       "1.0        1\n",
       "5.0        1\n",
       "Name: count, dtype: int64"
      ]
     },
     "execution_count": 9,
     "metadata": {},
     "output_type": "execute_result"
    }
   ],
   "source": [
    "lastfm_df['similar'].str.count(';').value_counts()"
   ]
  },
  {
   "cell_type": "markdown",
   "id": "70d0349f",
   "metadata": {},
   "source": [
    "Renaming columns"
   ]
  },
  {
   "cell_type": "code",
   "execution_count": 10,
   "id": "f22f9219",
   "metadata": {},
   "outputs": [],
   "source": [
    "lastfm_df[\"artist\"]=lastfm_df[\"artist_name\"]\n",
    "lastfm_df[\"lastfm_listeners\"]=lastfm_df[\"listeners\"]\n",
    "lastfm_df[\"lastfm_playcount\"]=lastfm_df[\"playcount\"]"
   ]
  },
  {
   "cell_type": "code",
   "execution_count": 11,
   "id": "1e461e51",
   "metadata": {},
   "outputs": [],
   "source": [
    "lastfm_df['similar'] = lastfm_df['similar'].replace('', np.nan)\n",
    "\n",
    "split_similar = lastfm_df['similar'].dropna().str.split(';', n=2, expand=True)\n",
    "\n",
    "split_similar = split_similar.apply(lambda col: col.str.strip())\n",
    "\n",
    "lastfm_df[['similar_1', 'similar_2', 'similar_3']] = split_similar"
   ]
  },
  {
   "cell_type": "code",
   "execution_count": null,
   "id": "025d91c6",
   "metadata": {},
   "outputs": [],
   "source": [
    "lastfm_df['artist'] = (\n",
    "    lastfm_df['artist']\n",
    "    .str.strip()  \n",
    "    .str.replace(r'[\\\"]', '', regex=True) \n",
    "    .str.replace(r'\\s+', ' ', regex=True) \n",
    ")"
   ]
  },
  {
   "cell_type": "code",
   "execution_count": 13,
   "id": "81b8d14b",
   "metadata": {},
   "outputs": [],
   "source": [
    "lastfm_df.drop(columns=[\"artist_name\", \"similar\", \"listeners\", \"playcount\"], inplace= True)"
   ]
  },
  {
   "cell_type": "code",
   "execution_count": 14,
   "id": "c5ea0bb0",
   "metadata": {},
   "outputs": [
    {
     "data": {
      "text/html": [
       "<div>\n",
       "<style scoped>\n",
       "    .dataframe tbody tr th:only-of-type {\n",
       "        vertical-align: middle;\n",
       "    }\n",
       "\n",
       "    .dataframe tbody tr th {\n",
       "        vertical-align: top;\n",
       "    }\n",
       "\n",
       "    .dataframe thead th {\n",
       "        text-align: right;\n",
       "    }\n",
       "</style>\n",
       "<table border=\"1\" class=\"dataframe\">\n",
       "  <thead>\n",
       "    <tr style=\"text-align: right;\">\n",
       "      <th></th>\n",
       "      <th>artist</th>\n",
       "      <th>lastfm_listeners</th>\n",
       "      <th>lastfm_playcount</th>\n",
       "      <th>similar_1</th>\n",
       "      <th>similar_2</th>\n",
       "      <th>similar_3</th>\n",
       "    </tr>\n",
       "  </thead>\n",
       "  <tbody>\n",
       "    <tr>\n",
       "      <th>0</th>\n",
       "      <td>!nvite</td>\n",
       "      <td>8030</td>\n",
       "      <td>19556</td>\n",
       "      <td>Bayleaf Manilla</td>\n",
       "      <td>Smiloh</td>\n",
       "      <td>Tentoe</td>\n",
       "    </tr>\n",
       "    <tr>\n",
       "      <th>1</th>\n",
       "      <td>#Kids</td>\n",
       "      <td>815</td>\n",
       "      <td>4431</td>\n",
       "      <td>Lullabies In Nature</td>\n",
       "      <td>Modern Children's Songs</td>\n",
       "      <td>Zouzounia TV</td>\n",
       "    </tr>\n",
       "    <tr>\n",
       "      <th>2</th>\n",
       "      <td>$affie</td>\n",
       "      <td>12512</td>\n",
       "      <td>32051</td>\n",
       "      <td>Ricki Wu</td>\n",
       "      <td>Lobby Lingu!n!</td>\n",
       "      <td>Exxecs</td>\n",
       "    </tr>\n",
       "    <tr>\n",
       "      <th>3</th>\n",
       "      <td>&amp;ME</td>\n",
       "      <td>138173</td>\n",
       "      <td>1164546</td>\n",
       "      <td>Rampa</td>\n",
       "      <td>Adriatique</td>\n",
       "      <td>Adam Port</td>\n",
       "    </tr>\n",
       "    <tr>\n",
       "      <th>4</th>\n",
       "      <td>'Falsettos' 2016 Broadway Company</td>\n",
       "      <td>21687</td>\n",
       "      <td>487458</td>\n",
       "      <td>Anthony Rosenthal</td>\n",
       "      <td>Stephanie J. Block</td>\n",
       "      <td>Christian Borle</td>\n",
       "    </tr>\n",
       "  </tbody>\n",
       "</table>\n",
       "</div>"
      ],
      "text/plain": [
       "                              artist  lastfm_listeners  lastfm_playcount  \\\n",
       "0                             !nvite              8030             19556   \n",
       "1                              #Kids               815              4431   \n",
       "2                             $affie             12512             32051   \n",
       "3                                &ME            138173           1164546   \n",
       "4  'Falsettos' 2016 Broadway Company             21687            487458   \n",
       "\n",
       "             similar_1                similar_2        similar_3  \n",
       "0      Bayleaf Manilla                   Smiloh           Tentoe  \n",
       "1  Lullabies In Nature  Modern Children's Songs     Zouzounia TV  \n",
       "2             Ricki Wu           Lobby Lingu!n!           Exxecs  \n",
       "3                Rampa               Adriatique        Adam Port  \n",
       "4    Anthony Rosenthal       Stephanie J. Block  Christian Borle  "
      ]
     },
     "execution_count": 14,
     "metadata": {},
     "output_type": "execute_result"
    }
   ],
   "source": [
    "lastfm_df.head()"
   ]
  },
  {
   "cell_type": "code",
   "execution_count": 15,
   "id": "94476233",
   "metadata": {},
   "outputs": [
    {
     "name": "stdout",
     "output_type": "stream",
     "text": [
      "<class 'pandas.core.frame.DataFrame'>\n",
      "RangeIndex: 17632 entries, 0 to 17631\n",
      "Data columns (total 6 columns):\n",
      " #   Column            Non-Null Count  Dtype \n",
      "---  ------            --------------  ----- \n",
      " 0   artist            17632 non-null  object\n",
      " 1   lastfm_listeners  17632 non-null  int64 \n",
      " 2   lastfm_playcount  17632 non-null  int64 \n",
      " 3   similar_1         17199 non-null  object\n",
      " 4   similar_2         17196 non-null  object\n",
      " 5   similar_3         17195 non-null  object\n",
      "dtypes: int64(2), object(4)\n",
      "memory usage: 826.6+ KB\n"
     ]
    }
   ],
   "source": [
    "lastfm_df.info()"
   ]
  },
  {
   "cell_type": "code",
   "execution_count": 16,
   "id": "5347cdc4",
   "metadata": {},
   "outputs": [],
   "source": [
    "lastfm_df.to_csv(\"data/clean/lastfm_artists.csv\", index=False)"
   ]
  }
 ],
 "metadata": {
  "kernelspec": {
   "display_name": "venv",
   "language": "python",
   "name": "python3"
  },
  "language_info": {
   "codemirror_mode": {
    "name": "ipython",
    "version": 3
   },
   "file_extension": ".py",
   "mimetype": "text/x-python",
   "name": "python",
   "nbconvert_exporter": "python",
   "pygments_lexer": "ipython3",
   "version": "3.11.9"
  }
 },
 "nbformat": 4,
 "nbformat_minor": 5
}
