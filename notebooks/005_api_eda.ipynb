{
 "cells": [
  {
   "cell_type": "code",
   "execution_count": 1,
   "id": "b05506d4",
   "metadata": {},
   "outputs": [],
   "source": [
    "import pandas as pd\n",
    "import matplotlib.pyplot as plt\n",
    "import numpy as np\n",
    "import seaborn as sns\n",
    "import os"
   ]
  },
  {
   "cell_type": "code",
   "execution_count": 2,
   "id": "1fa97ec4",
   "metadata": {},
   "outputs": [
    {
     "name": "stdout",
     "output_type": "stream",
     "text": [
      "c:\\Users\\valen\\Desktop\\etl_workshop002\n"
     ]
    }
   ],
   "source": [
    "os.chdir(\"..\")\n",
    "print(os.getcwd())"
   ]
  },
  {
   "cell_type": "code",
   "execution_count": 3,
   "id": "ff8f5d4d",
   "metadata": {},
   "outputs": [
    {
     "data": {
      "text/html": [
       "<div>\n",
       "<style scoped>\n",
       "    .dataframe tbody tr th:only-of-type {\n",
       "        vertical-align: middle;\n",
       "    }\n",
       "\n",
       "    .dataframe tbody tr th {\n",
       "        vertical-align: top;\n",
       "    }\n",
       "\n",
       "    .dataframe thead th {\n",
       "        text-align: right;\n",
       "    }\n",
       "</style>\n",
       "<table border=\"1\" class=\"dataframe\">\n",
       "  <thead>\n",
       "    <tr style=\"text-align: right;\">\n",
       "      <th></th>\n",
       "      <th>artist_name</th>\n",
       "      <th>listeners</th>\n",
       "      <th>playcount</th>\n",
       "      <th>similar</th>\n",
       "    </tr>\n",
       "  </thead>\n",
       "  <tbody>\n",
       "    <tr>\n",
       "      <th>0</th>\n",
       "      <td>!nvite</td>\n",
       "      <td>8030</td>\n",
       "      <td>19556</td>\n",
       "      <td>Bayleaf Manilla;Smiloh;Tentoe</td>\n",
       "    </tr>\n",
       "    <tr>\n",
       "      <th>1</th>\n",
       "      <td>#Kids</td>\n",
       "      <td>815</td>\n",
       "      <td>4431</td>\n",
       "      <td>Lullabies In Nature;Modern Children's Songs;Zo...</td>\n",
       "    </tr>\n",
       "    <tr>\n",
       "      <th>2</th>\n",
       "      <td>$affie</td>\n",
       "      <td>12512</td>\n",
       "      <td>32051</td>\n",
       "      <td>Ricki Wu;Lobby Lingu!n!;Exxecs</td>\n",
       "    </tr>\n",
       "    <tr>\n",
       "      <th>3</th>\n",
       "      <td>&amp;ME</td>\n",
       "      <td>138173</td>\n",
       "      <td>1164546</td>\n",
       "      <td>Rampa;Adriatique;Adam Port</td>\n",
       "    </tr>\n",
       "    <tr>\n",
       "      <th>4</th>\n",
       "      <td>'Falsettos' 2016 Broadway Company</td>\n",
       "      <td>21687</td>\n",
       "      <td>487458</td>\n",
       "      <td>Anthony Rosenthal;Stephanie J. Block;Christian...</td>\n",
       "    </tr>\n",
       "  </tbody>\n",
       "</table>\n",
       "</div>"
      ],
      "text/plain": [
       "                         artist_name  listeners  playcount  \\\n",
       "0                             !nvite       8030      19556   \n",
       "1                              #Kids        815       4431   \n",
       "2                             $affie      12512      32051   \n",
       "3                                &ME     138173    1164546   \n",
       "4  'Falsettos' 2016 Broadway Company      21687     487458   \n",
       "\n",
       "                                             similar  \n",
       "0                      Bayleaf Manilla;Smiloh;Tentoe  \n",
       "1  Lullabies In Nature;Modern Children's Songs;Zo...  \n",
       "2                     Ricki Wu;Lobby Lingu!n!;Exxecs  \n",
       "3                         Rampa;Adriatique;Adam Port  \n",
       "4  Anthony Rosenthal;Stephanie J. Block;Christian...  "
      ]
     },
     "execution_count": 3,
     "metadata": {},
     "output_type": "execute_result"
    }
   ],
   "source": [
    "lastfm_df = pd.read_csv(\"data/raw/lastfm_data.csv\")\n",
    "lastfm_df.head()"
   ]
  },
  {
   "cell_type": "code",
   "execution_count": 4,
   "id": "af44363c",
   "metadata": {},
   "outputs": [],
   "source": [
    "artists_df=pd.read_csv(\"data/raw/artists.csv\")\n",
    "needed_artists = artists_df['primary_artist'].tolist()  "
   ]
  },
  {
   "cell_type": "code",
   "execution_count": 5,
   "id": "127ebb3d",
   "metadata": {},
   "outputs": [
    {
     "name": "stdout",
     "output_type": "stream",
     "text": [
      "Artists that do not yet appear after mapping:\n",
      "{'Clarence White', 'Clay Walker', 'The Kentucky Colonels', 'Maxida Märak', 'Phyno', 'Maxi Rozh', 'Maxel', 'Chrystian & Ralf', 'The Handsome Family', 'Dombresky', 'Maunalua', 'Maikel Delacalle', 'Reynaldo Santiago Chino ', 'Maxence Cyrin', 'Maximilian Sievert'}\n"
     ]
    }
   ],
   "source": [
    "found_artists = lastfm_df[\"artist_name\"].unique()\n",
    "missing = set(needed_artists) - set(found_artists)\n",
    "\n",
    "print(\"Artists that do not yet appear after mapping:\")\n",
    "print(missing)"
   ]
  },
  {
   "cell_type": "code",
   "execution_count": 6,
   "id": "6b9218ce",
   "metadata": {},
   "outputs": [
    {
     "data": {
      "text/plain": [
       "15"
      ]
     },
     "execution_count": 6,
     "metadata": {},
     "output_type": "execute_result"
    }
   ],
   "source": [
    "len(missing)"
   ]
  },
  {
   "cell_type": "code",
   "execution_count": 7,
   "id": "41c955b1",
   "metadata": {},
   "outputs": [
    {
     "name": "stdout",
     "output_type": "stream",
     "text": [
      "<class 'pandas.core.frame.DataFrame'>\n",
      "RangeIndex: 17632 entries, 0 to 17631\n",
      "Data columns (total 4 columns):\n",
      " #   Column       Non-Null Count  Dtype \n",
      "---  ------       --------------  ----- \n",
      " 0   artist_name  17632 non-null  object\n",
      " 1   listeners    17632 non-null  int64 \n",
      " 2   playcount    17632 non-null  int64 \n",
      " 3   similar      17199 non-null  object\n",
      "dtypes: int64(2), object(2)\n",
      "memory usage: 551.1+ KB\n"
     ]
    }
   ],
   "source": [
    "lastfm_df.info()"
   ]
  },
  {
   "cell_type": "code",
   "execution_count": 9,
   "id": "4ae831b7",
   "metadata": {},
   "outputs": [
    {
     "data": {
      "image/png": "[encoded data removed]",
      "text/plain": [
       "<Figure size 1000x600 with 1 Axes>"
      ]
     },
     "metadata": {},
     "output_type": "display_data"
    }
   ],
   "source": [
    "# Relación entre nulos y popularidad\n",
    "plt.figure(figsize=(10, 6))\n",
    "sns.boxplot(\n",
    "    x=lastfm_df['similar'].isnull(),\n",
    "    y=np.log1p(lastfm_df['playcount'])  # Usar escala logarítmica\n",
    ")\n",
    "plt.title('Distribución de Playcount vs Artistas sin Similares')\n",
    "plt.xlabel('Similar es nulo')\n",
    "plt.ylabel('Log(Playcount)')\n",
    "plt.show()"
   ]
  },
  {
   "cell_type": "code",
   "execution_count": 24,
   "id": "6324203b",
   "metadata": {},
   "outputs": [
    {
     "ename": "KeyError",
     "evalue": "'num_tags'",
     "output_type": "error",
     "traceback": [
      "\u001b[31m---------------------------------------------------------------------------\u001b[39m",
      "\u001b[31mKeyError\u001b[39m                                  Traceback (most recent call last)",
      "\u001b[36mFile \u001b[39m\u001b[32mc:\\Users\\valen\\Desktop\\etl_workshop002\\venv\\Lib\\site-packages\\pandas\\core\\indexes\\base.py:3805\u001b[39m, in \u001b[36mIndex.get_loc\u001b[39m\u001b[34m(self, key)\u001b[39m\n\u001b[32m   3804\u001b[39m \u001b[38;5;28;01mtry\u001b[39;00m:\n\u001b[32m-> \u001b[39m\u001b[32m3805\u001b[39m     \u001b[38;5;28;01mreturn\u001b[39;00m \u001b[38;5;28;43mself\u001b[39;49m\u001b[43m.\u001b[49m\u001b[43m_engine\u001b[49m\u001b[43m.\u001b[49m\u001b[43mget_loc\u001b[49m\u001b[43m(\u001b[49m\u001b[43mcasted_key\u001b[49m\u001b[43m)\u001b[49m\n\u001b[32m   3806\u001b[39m \u001b[38;5;28;01mexcept\u001b[39;00m \u001b[38;5;167;01mKeyError\u001b[39;00m \u001b[38;5;28;01mas\u001b[39;00m err:\n",
      "\u001b[36mFile \u001b[39m\u001b[32mindex.pyx:167\u001b[39m, in \u001b[36mpandas._libs.index.IndexEngine.get_loc\u001b[39m\u001b[34m()\u001b[39m\n",
      "\u001b[36mFile \u001b[39m\u001b[32mindex.pyx:196\u001b[39m, in \u001b[36mpandas._libs.index.IndexEngine.get_loc\u001b[39m\u001b[34m()\u001b[39m\n",
      "\u001b[36mFile \u001b[39m\u001b[32mpandas\\\\_libs\\\\hashtable_class_helper.pxi:7081\u001b[39m, in \u001b[36mpandas._libs.hashtable.PyObjectHashTable.get_item\u001b[39m\u001b[34m()\u001b[39m\n",
      "\u001b[36mFile \u001b[39m\u001b[32mpandas\\\\_libs\\\\hashtable_class_helper.pxi:7089\u001b[39m, in \u001b[36mpandas._libs.hashtable.PyObjectHashTable.get_item\u001b[39m\u001b[34m()\u001b[39m\n",
      "\u001b[31mKeyError\u001b[39m: 'num_tags'",
      "\nThe above exception was the direct cause of the following exception:\n",
      "\u001b[31mKeyError\u001b[39m                                  Traceback (most recent call last)",
      "\u001b[36mCell\u001b[39m\u001b[36m \u001b[39m\u001b[32mIn[24]\u001b[39m\u001b[32m, line 5\u001b[39m\n\u001b[32m      1\u001b[39m plt.figure(figsize=(\u001b[32m14\u001b[39m, \u001b[32m7\u001b[39m))\n\u001b[32m      2\u001b[39m sns.boxplot(\n\u001b[32m      3\u001b[39m     x=\u001b[33m'\u001b[39m\u001b[33mnum_tags\u001b[39m\u001b[33m'\u001b[39m,\n\u001b[32m      4\u001b[39m     y=\u001b[33m'\u001b[39m\u001b[33mlisteners\u001b[39m\u001b[33m'\u001b[39m,\n\u001b[32m----> \u001b[39m\u001b[32m5\u001b[39m     data=lastfm_df[\u001b[43mlastfm_df\u001b[49m\u001b[43m[\u001b[49m\u001b[33;43m'\u001b[39;49m\u001b[33;43mnum_tags\u001b[39;49m\u001b[33;43m'\u001b[39;49m\u001b[43m]\u001b[49m <= \u001b[32m15\u001b[39m],\n\u001b[32m      6\u001b[39m     whis=[\u001b[32m5\u001b[39m, \u001b[32m95\u001b[39m],  \u001b[38;5;66;03m# Rango percentil\u001b[39;00m\n\u001b[32m      7\u001b[39m     palette=\u001b[33m\"\u001b[39m\u001b[33mcoolwarm\u001b[39m\u001b[33m\"\u001b[39m\n\u001b[32m      8\u001b[39m )\n\u001b[32m      9\u001b[39m sns.stripplot(\n\u001b[32m     10\u001b[39m     x=\u001b[33m'\u001b[39m\u001b[33mnum_tags\u001b[39m\u001b[33m'\u001b[39m,\n\u001b[32m     11\u001b[39m     y=\u001b[33m'\u001b[39m\u001b[33mlisteners\u001b[39m\u001b[33m'\u001b[39m,\n\u001b[32m   (...)\u001b[39m\u001b[32m     15\u001b[39m     size=\u001b[32m3\u001b[39m\n\u001b[32m     16\u001b[39m )\n\u001b[32m     17\u001b[39m plt.yscale(\u001b[33m'\u001b[39m\u001b[33mlog\u001b[39m\u001b[33m'\u001b[39m)\n",
      "\u001b[36mFile \u001b[39m\u001b[32mc:\\Users\\valen\\Desktop\\etl_workshop002\\venv\\Lib\\site-packages\\pandas\\core\\frame.py:4102\u001b[39m, in \u001b[36mDataFrame.__getitem__\u001b[39m\u001b[34m(self, key)\u001b[39m\n\u001b[32m   4100\u001b[39m \u001b[38;5;28;01mif\u001b[39;00m \u001b[38;5;28mself\u001b[39m.columns.nlevels > \u001b[32m1\u001b[39m:\n\u001b[32m   4101\u001b[39m     \u001b[38;5;28;01mreturn\u001b[39;00m \u001b[38;5;28mself\u001b[39m._getitem_multilevel(key)\n\u001b[32m-> \u001b[39m\u001b[32m4102\u001b[39m indexer = \u001b[38;5;28;43mself\u001b[39;49m\u001b[43m.\u001b[49m\u001b[43mcolumns\u001b[49m\u001b[43m.\u001b[49m\u001b[43mget_loc\u001b[49m\u001b[43m(\u001b[49m\u001b[43mkey\u001b[49m\u001b[43m)\u001b[49m\n\u001b[32m   4103\u001b[39m \u001b[38;5;28;01mif\u001b[39;00m is_integer(indexer):\n\u001b[32m   4104\u001b[39m     indexer = [indexer]\n",
      "\u001b[36mFile \u001b[39m\u001b[32mc:\\Users\\valen\\Desktop\\etl_workshop002\\venv\\Lib\\site-packages\\pandas\\core\\indexes\\base.py:3812\u001b[39m, in \u001b[36mIndex.get_loc\u001b[39m\u001b[34m(self, key)\u001b[39m\n\u001b[32m   3807\u001b[39m     \u001b[38;5;28;01mif\u001b[39;00m \u001b[38;5;28misinstance\u001b[39m(casted_key, \u001b[38;5;28mslice\u001b[39m) \u001b[38;5;129;01mor\u001b[39;00m (\n\u001b[32m   3808\u001b[39m         \u001b[38;5;28misinstance\u001b[39m(casted_key, abc.Iterable)\n\u001b[32m   3809\u001b[39m         \u001b[38;5;129;01mand\u001b[39;00m \u001b[38;5;28many\u001b[39m(\u001b[38;5;28misinstance\u001b[39m(x, \u001b[38;5;28mslice\u001b[39m) \u001b[38;5;28;01mfor\u001b[39;00m x \u001b[38;5;129;01min\u001b[39;00m casted_key)\n\u001b[32m   3810\u001b[39m     ):\n\u001b[32m   3811\u001b[39m         \u001b[38;5;28;01mraise\u001b[39;00m InvalidIndexError(key)\n\u001b[32m-> \u001b[39m\u001b[32m3812\u001b[39m     \u001b[38;5;28;01mraise\u001b[39;00m \u001b[38;5;167;01mKeyError\u001b[39;00m(key) \u001b[38;5;28;01mfrom\u001b[39;00m\u001b[38;5;250m \u001b[39m\u001b[34;01merr\u001b[39;00m\n\u001b[32m   3813\u001b[39m \u001b[38;5;28;01mexcept\u001b[39;00m \u001b[38;5;167;01mTypeError\u001b[39;00m:\n\u001b[32m   3814\u001b[39m     \u001b[38;5;66;03m# If we have a listlike key, _check_indexing_error will raise\u001b[39;00m\n\u001b[32m   3815\u001b[39m     \u001b[38;5;66;03m#  InvalidIndexError. Otherwise we fall through and re-raise\u001b[39;00m\n\u001b[32m   3816\u001b[39m     \u001b[38;5;66;03m#  the TypeError.\u001b[39;00m\n\u001b[32m   3817\u001b[39m     \u001b[38;5;28mself\u001b[39m._check_indexing_error(key)\n",
      "\u001b[31mKeyError\u001b[39m: 'num_tags'"
     ]
    },
    {
     "data": {
      "text/plain": [
       "<Figure size 1400x700 with 0 Axes>"
      ]
     },
     "metadata": {},
     "output_type": "display_data"
    }
   ],
   "source": [
    "plt.figure(figsize=(14, 7))\n",
    "sns.boxplot(\n",
    "    x='num_tags',\n",
    "    y='listeners',\n",
    "    data=lastfm_df[lastfm_df['num_tags'] <= 15],\n",
    "    whis=[5, 95],  # Rango percentil\n",
    "    palette=\"coolwarm\"\n",
    ")\n",
    "sns.stripplot(\n",
    "    x='num_tags',\n",
    "    y='listeners',\n",
    "    data=lastfm_df[lastfm_df['num_tags'] <= 15],\n",
    "    color='black',\n",
    "    alpha=0.3,\n",
    "    size=3\n",
    ")\n",
    "plt.yscale('log')\n",
    "plt.title('Distribución Estadística por Número de Tags')\n",
    "plt.show()"
   ]
  }
 ],
 "metadata": {
  "kernelspec": {
   "display_name": "venv",
   "language": "python",
   "name": "python3"
  },
  "language_info": {
   "codemirror_mode": {
    "name": "ipython",
    "version": 3
   },
   "file_extension": ".py",
   "mimetype": "text/x-python",
   "name": "python",
   "nbconvert_exporter": "python",
   "pygments_lexer": "ipython3",
   "version": "3.11.9"
  }
 },
 "nbformat": 4,
 "nbformat_minor": 5
}
