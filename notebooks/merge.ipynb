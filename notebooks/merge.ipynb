{
 "cells": [
  {
   "cell_type": "code",
   "execution_count": 1,
   "id": "4c34724f",
   "metadata": {},
   "outputs": [],
   "source": [
    "from export_to_drive import export_to_drive\n"
   ]
  },
  {
   "cell_type": "code",
   "execution_count": 2,
   "id": "8d302f2b",
   "metadata": {},
   "outputs": [],
   "source": [
    "import pandas as pd\n",
    "\n",
    "\n",
    "# Datos de prueba\n",
    "test_df = pd.DataFrame({\n",
    "    'artist': ['Artist1', 'Artist2'],\n",
    "    'plays': [100, 200]\n",
    "})\n",
    "\n"
   ]
  },
  {
   "cell_type": "code",
   "execution_count": 3,
   "id": "72e37ee2",
   "metadata": {},
   "outputs": [
    {
     "name": "stdout",
     "output_type": "stream",
     "text": [
      "⚠️ Iniciando prueba de carga a Google Drive...\n",
      "📄 CSV temporal creado: merged_music_data.csv | Tamaño: 40 bytes\n",
      "📁 Acceso confirmado a carpeta: workshop (ID: 1ize2-haamshym7tY8wJ5efd648coydZ1)\n",
      "💥 Error en la exportación: seek of closed file\n",
      "🧹 Archivo temporal eliminado\n",
      "✅ Prueba completada\n"
     ]
    }
   ],
   "source": [
    "# Ejecutar prueba\n",
    "if __name__ == \"__main__\":\n",
    "    print(\"⚠️ Iniciando prueba de carga a Google Drive...\")\n",
    "    export_to_drive(test_df)\n",
    "    print(\"✅ Prueba completada\")"
   ]
  }
 ],
 "metadata": {
  "kernelspec": {
   "display_name": "venv",
   "language": "python",
   "name": "python3"
  },
  "language_info": {
   "codemirror_mode": {
    "name": "ipython",
    "version": 3
   },
   "file_extension": ".py",
   "mimetype": "text/x-python",
   "name": "python",
   "nbconvert_exporter": "python",
   "pygments_lexer": "ipython3",
   "version": "3.11.9"
  }
 },
 "nbformat": 4,
 "nbformat_minor": 5
}
