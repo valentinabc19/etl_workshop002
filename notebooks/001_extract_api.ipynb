{
 "cells": [
  {
   "cell_type": "code",
   "execution_count": null,
   "id": "558454b2",
   "metadata": {},
   "outputs": [
    {
     "name": "stdout",
     "output_type": "stream",
     "text": [
      "Tiempo total: 1.47 segundos\n",
      "Status Request 1: 200\n",
      "Status Request 2: 200\n",
      "<Response [200]>\n"
     ]
    }
   ],
   "source": [
    "import requests\n",
    "import time\n",
    "\n",
    "API_KEY = \"f734d9017ce700181dfbfd9282257ac5\"\n",
    "ARTIST_TEST = [\"Coldplay\", \"Radiohead\"]\n",
    "\n",
    "def test_parallel_requests():\n",
    "    start_time = time.time()\n",
    "    \n",
    "    response1 = requests.get(\n",
    "        \"http://ws.audioscrobbler.com/2.0/\",\n",
    "        params={\n",
    "            \"method\": \"artist.getInfo\",\n",
    "            \"artist\": ARTIST_TEST[0],\n",
    "            \"api_key\": API_KEY,\n",
    "            \"format\": \"json\"\n",
    "        }\n",
    "    )\n",
    "    \n",
    "    response2 = requests.get(\n",
    "        \"http://ws.audioscrobbler.com/2.0/\",\n",
    "        params={\n",
    "            \"method\": \"artist.getInfo\",\n",
    "            \"artist\": ARTIST_TEST[1],\n",
    "            \"api_key\": API_KEY,\n",
    "            \"format\": \"json\"\n",
    "        }\n",
    "    )\n",
    "    \n",
    "    end_time = time.time()\n",
    "    \n",
    "    print(f\"Tiempo total: {end_time - start_time:.2f} segundos\")\n",
    "    print(f\"Status Request 1: {response1.status_code}\")\n",
    "    print(f\"Status Request 2: {response2.status_code}\")\n",
    "\n",
    "test_parallel_requests()"
   ]
  },
  {
   "cell_type": "code",
   "execution_count": 4,
   "id": "0736ac05",
   "metadata": {},
   "outputs": [
    {
     "name": "stdout",
     "output_type": "stream",
     "text": [
      "Headers de Rate Limit: None\n",
      "Requests restantes: None\n"
     ]
    }
   ],
   "source": [
    "def check_rate_limit():\n",
    "    response = requests.get(\n",
    "        \"http://ws.audioscrobbler.com/2.0/\",\n",
    "        params={\n",
    "            \"method\": \"artist.getInfo\",\n",
    "            \"artist\": \"Coldplay\",\n",
    "            \"api_key\": API_KEY,\n",
    "            \"format\": \"json\"\n",
    "        }\n",
    "    )\n",
    "    print(\"Headers de Rate Limit:\", response.headers.get('X-RateLimit-Limit'))\n",
    "    print(\"Requests restantes:\", response.headers.get('X-RateLimit-Remaining'))\n",
    "check_rate_limit()"
   ]
  },
  {
   "cell_type": "code",
   "execution_count": 5,
   "id": "4bff48c2",
   "metadata": {},
   "outputs": [
    {
     "name": "stdout",
     "output_type": "stream",
     "text": [
      "Total errores: 0/5\n"
     ]
    }
   ],
   "source": [
    "def test_batch_requests():\n",
    "    artists = [\"The Beatles\", \"Beyoncé\", \"Drake\", \"Taylor Swift\", \"Kendrick Lamar\"]\n",
    "    errors = 0\n",
    "    \n",
    "    for artist in artists:\n",
    "        response = requests.get(\n",
    "            \"http://ws.audioscrobbler.com/2.0/\",\n",
    "            params={\n",
    "                \"method\": \"artist.getInfo\",\n",
    "                \"artist\": artist,\n",
    "                \"api_key\": API_KEY,\n",
    "                \"format\": \"json\"\n",
    "            },\n",
    "            timeout=5\n",
    "        )\n",
    "        if response.status_code != 200:\n",
    "            errors += 1\n",
    "            print(f\"Error en {artist}: {response.status_code}\")\n",
    "    \n",
    "    print(f\"Total errores: {errors}/{len(artists)}\")\n",
    "\n",
    "test_batch_requests()"
   ]
  }
 ],
 "metadata": {
  "kernelspec": {
   "display_name": "venv",
   "language": "python",
   "name": "python3"
  },
  "language_info": {
   "codemirror_mode": {
    "name": "ipython",
    "version": 3
   },
   "file_extension": ".py",
   "mimetype": "text/x-python",
   "name": "python",
   "nbconvert_exporter": "python",
   "pygments_lexer": "ipython3",
   "version": "3.11.9"
  }
 },
 "nbformat": 4,
 "nbformat_minor": 5
}
